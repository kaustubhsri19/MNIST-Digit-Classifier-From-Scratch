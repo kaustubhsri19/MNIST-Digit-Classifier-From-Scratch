{
 "cells": [
  {
   "cell_type": "code",
   "execution_count": 4,
   "id": "f0ab363e",
   "metadata": {},
   "outputs": [],
   "source": [
    "import numpy as np\n",
    "from sklearn.datasets import fetch_openml\n",
    "from sklearn.model_selection import train_test_split\n",
    "from sklearn.preprocessing import OneHotEncoder"
   ]
  },
  {
   "cell_type": "code",
   "execution_count": 5,
   "id": "145cb7d6",
   "metadata": {},
   "outputs": [],
   "source": [
    "mnist = fetch_openml('mnist_784', version=1, as_frame=False)\n",
    "X = mnist[\"data\"].astype(np.float32) / 255.0\n",
    "y = mnist[\"target\"].astype(int).reshape(-1, 1)\n",
    "\n",
    "encoder = OneHotEncoder(sparse_output=False, categories='auto')\n",
    "y_encoded = encoder.fit_transform(y)\n"
   ]
  },
  {
   "cell_type": "code",
   "execution_count": 14,
   "id": "6df5eebf",
   "metadata": {},
   "outputs": [
    {
     "name": "stdout",
     "output_type": "stream",
     "text": [
      "(70000, 784) (70000, 1) (70000, 10)\n"
     ]
    }
   ],
   "source": [
    "print(X.shape, y.shape, y_encoded.shape)"
   ]
  },
  {
   "cell_type": "code",
   "execution_count": 12,
   "id": "6bde98ab",
   "metadata": {},
   "outputs": [
    {
     "name": "stdout",
     "output_type": "stream",
     "text": [
      "[[0. 0. 0. ... 0. 0. 0.]\n",
      " [0. 0. 0. ... 0. 0. 0.]\n",
      " [0. 0. 0. ... 0. 0. 0.]\n",
      " ...\n",
      " [0. 0. 0. ... 0. 0. 0.]\n",
      " [0. 0. 0. ... 0. 0. 0.]\n",
      " [0. 0. 0. ... 0. 0. 0.]]\n"
     ]
    }
   ],
   "source": [
    "print(X)"
   ]
  },
  {
   "cell_type": "code",
   "execution_count": 15,
   "id": "25ea315a",
   "metadata": {},
   "outputs": [],
   "source": [
    "X_train, X_test, y_train, y_test = train_test_split(X, y_encoded, test_size=0.2, random_state= 42)"
   ]
  },
  {
   "cell_type": "code",
   "execution_count": 17,
   "id": "0afe4434",
   "metadata": {},
   "outputs": [],
   "source": [
    "input_size = 784\n",
    "hidden_size = 64\n",
    "output_size = 10\n",
    "\n",
    "np.random.seed(42)\n",
    "W1 = np.random.randn(input_size, hidden_size) * np.sqrt(1.0 / input_size)\n",
    "b1 = np.zeros((1, hidden_size))\n",
    "\n",
    "W2 = np.random.randn(hidden_size, output_size) * np.sqrt(1.0 / hidden_size)\n",
    "b2 = np.zeros((1, output_size))"
   ]
  },
  {
   "cell_type": "code",
   "execution_count": 18,
   "id": "c2e1ae7d",
   "metadata": {},
   "outputs": [],
   "source": [
    "def relu(z):\n",
    "    return np.maximum(0, z)\n",
    "\n",
    "def relu_derivative(z):\n",
    "    return (z > 0).astype(float)\n",
    "\n",
    "def softmax(z):\n",
    "    exp = np.exp(z - np.max(z, axis = 1, keepdims=True))\n",
    "    return exp / np.sum(exp, axis = 1, keepdims=True)\n",
    "\n",
    "def cross_entropy(preds, labels):\n",
    "    return -np.mean(np.sum(labels * np.log(preds + 1e-8), axis = 1))"
   ]
  },
  {
   "cell_type": "code",
   "execution_count": 21,
   "id": "8573ec20",
   "metadata": {},
   "outputs": [],
   "source": [
    "def train(X, y, epochs = 100, lr = 0.1):\n",
    "    global W1, b1, W2, b2\n",
    "    for epoch in range(1, epochs + 1):\n",
    "        #forward\n",
    "        Z1 = X @ W1 + b1\n",
    "        A1 = relu(Z1)\n",
    "        Z2 = A1 @ W2 + b2\n",
    "        A2 = softmax(Z2)\n",
    "\n",
    "        #loss\n",
    "        loss = cross_entropy(A2, y)\n",
    "\n",
    "        #backward\n",
    "        dZ2 = A2 - y\n",
    "        dW2 = A1.T @ dZ2 / X.shape[0]\n",
    "        db2 = np.mean(dZ2, axis = 0, keepdims = True)\n",
    "\n",
    "        dA1 = dZ2 @ W2.T\n",
    "        dZ1 = dA1 * relu_derivative(Z1)\n",
    "        dW1 = X.T @ dZ1 / X.shape[0]\n",
    "        db1 = np.mean(dZ1, axis=0, keepdims = True)\n",
    "\n",
    "        #update weights\n",
    "        W1 -= lr * dW1\n",
    "        W2 -= lr * dW2\n",
    "        b1 -= lr * db1\n",
    "        b2 -= lr * db2\n",
    "\n",
    "        if epoch % 10 == 0 or epoch == 1:\n",
    "            acc = evaluate(X_test, y_test)\n",
    "            print(f\"Epoch {epoch}: Loss = {loss:.4f}, Val Accuracy = {acc:.4f}\")\n",
    "\n",
    "def evaluate(X, y):\n",
    "    Z1 = X @ W1 + b1\n",
    "    A1 = relu(Z1)\n",
    "    Z2 = A1 @ W2 + b2\n",
    "    A2 = softmax(Z2)\n",
    "    preds = np.argmax(A2, axis = 1)\n",
    "    labels = np.argmax(y, axis = 1)\n",
    "    return np.mean(preds == labels)\n"
   ]
  },
  {
   "cell_type": "code",
   "execution_count": 29,
   "id": "44775ee7",
   "metadata": {},
   "outputs": [
    {
     "name": "stdout",
     "output_type": "stream",
     "text": [
      "Epoch 1: Loss = 0.4054, Val Accuracy = 0.8913\n",
      "Epoch 10: Loss = 0.3984, Val Accuracy = 0.8923\n",
      "Epoch 20: Loss = 0.3913, Val Accuracy = 0.8934\n",
      "Epoch 30: Loss = 0.3849, Val Accuracy = 0.8954\n",
      "Epoch 40: Loss = 0.3789, Val Accuracy = 0.8965\n",
      "Epoch 50: Loss = 0.3735, Val Accuracy = 0.8978\n",
      "Epoch 60: Loss = 0.3685, Val Accuracy = 0.8991\n",
      "Epoch 70: Loss = 0.3638, Val Accuracy = 0.8999\n",
      "Epoch 80: Loss = 0.3594, Val Accuracy = 0.9008\n",
      "Epoch 90: Loss = 0.3553, Val Accuracy = 0.9017\n",
      "Epoch 100: Loss = 0.3514, Val Accuracy = 0.9026\n"
     ]
    }
   ],
   "source": [
    "train(X_train, y_train, epochs = 100, lr = 0.1)"
   ]
  },
  {
   "cell_type": "code",
   "execution_count": 32,
   "id": "d00859d3",
   "metadata": {},
   "outputs": [
    {
     "name": "stdout",
     "output_type": "stream",
     "text": [
      "Final Accuracy: 90.2571%\n"
     ]
    }
   ],
   "source": [
    "print(f\"Final Accuracy: {evaluate(X_test, y_test) * 100:.4f}%\")"
   ]
  }
 ],
 "metadata": {
  "kernelspec": {
   "display_name": "base",
   "language": "python",
   "name": "python3"
  },
  "language_info": {
   "codemirror_mode": {
    "name": "ipython",
    "version": 3
   },
   "file_extension": ".py",
   "mimetype": "text/x-python",
   "name": "python",
   "nbconvert_exporter": "python",
   "pygments_lexer": "ipython3",
   "version": "3.12.7"
  }
 },
 "nbformat": 4,
 "nbformat_minor": 5
}
